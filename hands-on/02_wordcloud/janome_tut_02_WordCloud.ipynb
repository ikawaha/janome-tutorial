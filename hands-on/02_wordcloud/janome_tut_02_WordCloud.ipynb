{
  "nbformat": 4,
  "nbformat_minor": 0,
  "metadata": {
    "colab": {
      "name": "janome_tut_02_WordCloud.ipynb",
      "version": "0.3.2",
      "provenance": [],
      "collapsed_sections": []
    },
    "kernelspec": {
      "name": "python3",
      "display_name": "Python 3"
    }
  },
  "cells": [
    {
      "metadata": {
        "id": "udGs1tMfsnsM",
        "colab_type": "text"
      },
      "cell_type": "markdown",
      "source": [
        "# 2. WordCloud\n",
        "\n",
        "## 準備\n",
        "\n",
        "1. Janome をインストール\n",
        "3. IPA フォントの入手とアップロード\n",
        "\n"
      ]
    },
    {
      "metadata": {
        "id": "CLT12r7Xr_KK",
        "colab_type": "code",
        "colab": {}
      },
      "cell_type": "code",
      "source": [
        "!pip install janome"
      ],
      "execution_count": 0,
      "outputs": []
    },
    {
      "metadata": {
        "id": "RSTdFeVxebGa",
        "colab_type": "code",
        "colab": {}
      },
      "cell_type": "code",
      "source": [
        "#https://ipafont.ipa.go.jp/old/ipafont/download.html から TTFファイル「IPA P ゴシック」をダウンロードして手元で解凍し，`ipagp.ttf` ファイルを Google Colab にアップロード\n",
        "from google.colab import files\n",
        "uploaded = files.upload()"
      ],
      "execution_count": 0,
      "outputs": []
    },
    {
      "metadata": {
        "id": "a1vOYDxevKQF",
        "colab_type": "text"
      },
      "cell_type": "markdown",
      "source": [
        "## 英語のテキストから WordCloud を作る\n",
        "\n",
        "`janome-tutorial/hands-on/data/alice_utf8.txt` から WordCloud を作成します。"
      ]
    },
    {
      "metadata": {
        "id": "NqAedPx2wOoW",
        "colab_type": "code",
        "colab": {}
      },
      "cell_type": "code",
      "source": [
        "# janome-tutorial/hands-on/data/alice_utf8.txt を Google Colab にアップロード\n",
        "from google.colab import files\n",
        "uploaded = files.upload()"
      ],
      "execution_count": 0,
      "outputs": []
    },
    {
      "metadata": {
        "id": "n8n6WMMIxKHi",
        "colab_type": "code",
        "colab": {}
      },
      "cell_type": "code",
      "source": [
        "!cat alice_utf8.txt"
      ],
      "execution_count": 0,
      "outputs": []
    },
    {
      "metadata": {
        "id": "3G3lHNvkwhpo",
        "colab_type": "code",
        "colab": {}
      },
      "cell_type": "code",
      "source": [
        "# WordCloud 生成\n",
        "from wordcloud import WordCloud\n",
        "import matplotlib.pyplot as plt\n",
        "import sys\n",
        "\n",
        "def show_wordcloud(file):\n",
        "    with open(file, encoding='utf8') as f:\n",
        "        text = f.read()\n",
        "        wordcloud = WordCloud(font_path='ipagp.ttf', background_color='white', width=1024, height=674).generate(text)\n",
        "        plt.imshow(wordcloud, interpolation='bilinear')\n",
        "        plt.axis(\"off\")\n",
        "        plt.figure()\n",
        "        plt.show()\n",
        "        \n",
        "show_wordcloud('alice_utf8.txt')        \n"
      ],
      "execution_count": 0,
      "outputs": []
    },
    {
      "metadata": {
        "id": "5AfNUnO6xdsH",
        "colab_type": "text"
      },
      "cell_type": "markdown",
      "source": [
        "## 日本語のテキストから WordCloud を作る\n",
        "\n",
        "同様に，`janome-tutorial/hands-on/data/kazeno_matasaburo_utf8.txt` から WordCloud を作成します。"
      ]
    },
    {
      "metadata": {
        "id": "NPuJd04txyZW",
        "colab_type": "code",
        "colab": {}
      },
      "cell_type": "code",
      "source": [
        "# janome-tutorial/hands-on/data/kazeno_matasaburo_utf8.txt を Google Colab にアップロード\n",
        "from google.colab import files\n",
        "uploaded = files.upload()"
      ],
      "execution_count": 0,
      "outputs": []
    },
    {
      "metadata": {
        "id": "Yg9wkBAvx-uZ",
        "colab_type": "code",
        "colab": {}
      },
      "cell_type": "code",
      "source": [
        "!cat kazeno_matasaburo_utf8.txt"
      ],
      "execution_count": 0,
      "outputs": []
    },
    {
      "metadata": {
        "id": "EKgvaXheyHzQ",
        "colab_type": "code",
        "colab": {}
      },
      "cell_type": "code",
      "source": [
        "# WordCloud 生成\n",
        "from wordcloud import WordCloud\n",
        "import matplotlib.pyplot as plt\n",
        "\n",
        "def show_wordcloud(file):\n",
        "    with open(file, encoding='utf8') as f:\n",
        "        text = f.read()\n",
        "        wordcloud = WordCloud(font_path='ipagp.ttf', background_color='white', width=1024, height=674).generate(text)\n",
        "        plt.imshow(wordcloud, interpolation='bilinear')\n",
        "        plt.axis(\"off\")\n",
        "        plt.figure()\n",
        "        plt.show()\n",
        "        \n",
        "show_wordcloud('kazeno_matasaburo_utf8.txt')  \n"
      ],
      "execution_count": 0,
      "outputs": []
    },
    {
      "metadata": {
        "id": "vpExM3-RzNjT",
        "colab_type": "text"
      },
      "cell_type": "markdown",
      "source": [
        "### ハンズオン課題 2-1\n",
        "\n",
        "`WordCloud.generate()` メソッドの入力には，スペースで単語を区切った文字列を渡す必要があります。\n",
        "\n",
        " `split_text()` メソッドを完成させて，日本語テキストから WordCloud を作成できるようにしてください。\n",
        " \n",
        " 解答例は [こちら](https://colab.research.google.com/drive/1iJU7opDblIc0IIIeAFhgOClibO8T3I1k?authuser=2#scrollTo=jPTNiYZM1rwd)\n",
        "\n",
        "できたら，`hands-on/data` ディレクトリ内の他のテキストの WordCloud も試してください。"
      ]
    },
    {
      "metadata": {
        "id": "-oG2YNrizsiO",
        "colab_type": "code",
        "colab": {}
      },
      "cell_type": "code",
      "source": [
        "# 日本語 WordCloud 生成\n",
        "from wordcloud import WordCloud\n",
        "import matplotlib.pyplot as plt\n",
        "\n",
        "def split_text(src, out):\n",
        "    \"\"\"\n",
        "    src で渡されたファイルを読み，単語分割して out に書き出します。\n",
        "    \"\"\"\n",
        "    ### このメソッドを完成させてください ###\n",
        "\n",
        "\n",
        "def show_wordcloud(file):\n",
        "    with open(file, encoding='utf8') as f:\n",
        "        text = f.read()\n",
        "        wordcloud = WordCloud(font_path='ipagp.ttf', background_color='white', width=1024, height=674).generate(text)\n",
        "        plt.imshow(wordcloud, interpolation='bilinear')\n",
        "        plt.axis(\"off\")\n",
        "        plt.figure()\n",
        "        plt.show()\n",
        "        \n",
        "split_text('kazeno_matasaburo_utf8.txt', 'words.txt')\n",
        "show_wordcloud('words.txt')  "
      ],
      "execution_count": 0,
      "outputs": []
    }
  ]
}