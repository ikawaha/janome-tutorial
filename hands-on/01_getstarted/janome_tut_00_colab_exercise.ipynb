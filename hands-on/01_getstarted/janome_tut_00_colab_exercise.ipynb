{
  "nbformat": 4,
  "nbformat_minor": 0,
  "metadata": {
    "colab": {
      "name": "janome_tut_00_colab_exercise.ipynb",
      "version": "0.3.2",
      "provenance": [],
      "collapsed_sections": []
    },
    "kernelspec": {
      "name": "python3",
      "display_name": "Python 3"
    }
  },
  "cells": [
    {
      "metadata": {
        "id": "myFAZmDtqYtY",
        "colab_type": "text"
      },
      "cell_type": "markdown",
      "source": [
        "# Google Colab の練習\n",
        "\n",
        "**実行するには，メニューの「PLAYGROUNDで開く」を押してください。（Google アカウントが必要です。）**"
      ]
    },
    {
      "metadata": {
        "colab_type": "text",
        "id": "pQeXRbpor5q4"
      },
      "cell_type": "markdown",
      "source": [
        "## セルの扱い方を覚えよう\n",
        "\n",
        "### 1. コードセルを追加・編集・削除する\n",
        "\n",
        "メニューバー下の「＋コード」というボタンを押すとコードセル（Pythonコードやコマンドを書いて実行できるセル）が追加されます。\n",
        "\n",
        "コードセルをいくつか適当に追加してください。\n",
        "\n",
        "コードセルを選択するとそのセルが編集できます。なにか打ち込んでみてください。\n",
        "\n",
        "削除したいセルを選択して，右上の三点リーダー（︙）を押し，「セルの削除」を押すとそのセルが削除されます。\n",
        "\n",
        "さっき追加したコードセルを削除してください。\n",
        "\n",
        "\n"
      ]
    },
    {
      "metadata": {
        "id": "tk9jwpsMqX7e",
        "colab_type": "code",
        "colab": {}
      },
      "cell_type": "code",
      "source": [
        "### これはコードセルです"
      ],
      "execution_count": 0,
      "outputs": []
    },
    {
      "metadata": {
        "id": "B-RX8qCirTPa",
        "colab_type": "text"
      },
      "cell_type": "markdown",
      "source": [
        "### 2. テキストセルを追加・編集・削除する\n",
        "\n",
        "メニューバー下の「＋テキスト」というボタンを押すとテキストセル（マークダウン形式でドキュメントやメモが書けるセル）が追加されます。\n",
        "\n",
        "テキストセルをいくつか適当に追加してください。\n",
        "\n",
        "テキストセルをダブルクリックするとセルが編集できます。なにか打ち込んでみてください\n",
        "\n",
        "削除したいセルを選択して，右上の三点リーダー（︙）を押し，「セルの削除」を押すとそのセルが削除されます。\n",
        "\n",
        "さっき追加したテキストセルを削除してください。"
      ]
    },
    {
      "metadata": {
        "id": "L56WQKXYrZFp",
        "colab_type": "text"
      },
      "cell_type": "markdown",
      "source": [
        "これはテキストセルです"
      ]
    },
    {
      "metadata": {
        "id": "AT-kqPtutJT6",
        "colab_type": "text"
      },
      "cell_type": "markdown",
      "source": [
        "## Python プログラムを実行しよう\n",
        "\n",
        "### 1. コードセルで Python プログラムを実行する\n",
        "\n",
        "下のコードセルに，適当な Python プログラムを入力してください。\n",
        "\n",
        "例）\n",
        "\n",
        "```\n",
        "print('Hello Colab!')\n",
        "\n",
        "def hello(name):\n",
        "    print('Hello %s!' % name)\n",
        "\n",
        "hello('janome')\n",
        "\n",
        "l = [1,2,3,4,5]\n",
        "l2 = list(map(lambda x: x * 2, l))\n",
        "print(l2)\n",
        "\n",
        "```\n",
        "\n",
        "何行書いても OK です。クラスや関数も書けます。\n",
        "\n",
        "セルを選択した状態で，左の実行ボタン（▶）を押すとプログラムが実行されます。または，キーボードショートカット Ctrl-Enter でも実行できます。\n",
        "\n",
        "実行後に表示される出力欄の，左の矢印アイコンにカーソルを合わせると☓に変わるので，☓ボタンを押すと出力が消去されます。\n",
        "\n",
        "適当にプログラムを修正して，何度か実行して練習してください。"
      ]
    },
    {
      "metadata": {
        "id": "mvjcdhCotZBh",
        "colab_type": "code",
        "colab": {}
      },
      "cell_type": "code",
      "source": [
        "### ここに Python プログラムを書く\n"
      ],
      "execution_count": 0,
      "outputs": []
    },
    {
      "metadata": {
        "id": "7puVdhwXvjW0",
        "colab_type": "text"
      },
      "cell_type": "markdown",
      "source": [
        "### 2. Python ライブラリをインストールする\n",
        "\n",
        "Google Colab にはあらかじめデータサイエンス系のライブラリが多数インストールされています。（numpy, matploglib, gensim などは最初から入っています。）\n",
        "\n",
        "インストールされていないライブラリは，!pip コマンドでインストールできます。"
      ]
    },
    {
      "metadata": {
        "id": "dFoo9BzfwaFt",
        "colab_type": "code",
        "colab": {}
      },
      "cell_type": "code",
      "source": [
        "# インストール済みのライブラリを確認\n",
        "!pip freeze"
      ],
      "execution_count": 0,
      "outputs": []
    },
    {
      "metadata": {
        "id": "-DpWoLNg6xg5",
        "colab_type": "code",
        "colab": {}
      },
      "cell_type": "code",
      "source": [
        "# fasttext (https://github.com/pyk/fastText.py) をインストール\n",
        "!pip install fasttext"
      ],
      "execution_count": 0,
      "outputs": []
    },
    {
      "metadata": {
        "id": "ylWPfa0w5m82",
        "colab_type": "code",
        "colab": {}
      },
      "cell_type": "code",
      "source": [
        "import fasttext"
      ],
      "execution_count": 0,
      "outputs": []
    },
    {
      "metadata": {
        "id": "gzJFL_QVw98A",
        "colab_type": "text"
      },
      "cell_type": "markdown",
      "source": [
        "## ファイルをアップロードしよう\n",
        "\n",
        "下記のコードセルを実行すると，ローカルマシンの任意のファイルを Colab にアップロードできます。（ファイル選択ダイアログが表示されるので，アップロードしたいファイルを選択してください。）\n",
        "\n",
        "適当なファイルをアップロードしてみてください。"
      ]
    },
    {
      "metadata": {
        "id": "2klw3NEaxZuS",
        "colab_type": "code",
        "colab": {}
      },
      "cell_type": "code",
      "source": [
        "from google.colab import files\n",
        "uploaded = files.upload()"
      ],
      "execution_count": 0,
      "outputs": []
    },
    {
      "metadata": {
        "id": "hxgM6FCcxxme",
        "colab_type": "text"
      },
      "cell_type": "markdown",
      "source": [
        "または，GUI からもアップロードできます。\n",
        "\n",
        "参考\n",
        "\n",
        "https://qiita.com/wakame1367/items/74a8575874c1a9154cff"
      ]
    },
    {
      "metadata": {
        "id": "99pHXuq5yeF7",
        "colab_type": "text"
      },
      "cell_type": "markdown",
      "source": [
        "## Unix コマンドを実行しよう\n",
        "\n",
        "コードセルで，冒頭に `!` をつけると任意の Unix コマンドが実行できます。（すべての Unix コマンドが実行できるわけではありません。）\n",
        "\n",
        "### 1. 基本的なコマンドを実行しよう\n",
        "\n",
        "下記のコードセルを順番に実行してください。"
      ]
    },
    {
      "metadata": {
        "id": "Sb6vroSNzG4J",
        "colab_type": "code",
        "colab": {}
      },
      "cell_type": "code",
      "source": [
        "!mkdir test\n",
        "!echo \"となりのトトロ\" > test/totoro.txt\n",
        "!echo \"メイ\" >> test/totoro.txt\n",
        "!ls test\n",
        "!echo\n",
        "!cat test/totoro.txt"
      ],
      "execution_count": 0,
      "outputs": []
    },
    {
      "metadata": {
        "id": "eCZxxVkK0o4Q",
        "colab_type": "code",
        "colab": {}
      },
      "cell_type": "code",
      "source": [
        "!rm test/totoro.txt\n",
        "!rm -r test\n",
        "!ls test/totoro.txt"
      ],
      "execution_count": 0,
      "outputs": []
    },
    {
      "metadata": {
        "id": "bvSaIDGs1G9L",
        "colab_type": "text"
      },
      "cell_type": "markdown",
      "source": [
        "### 2. APT でパッケージをインストールしよう\n",
        "\n",
        "!apt-get install でパッケージがインストールできます。\n",
        "\n",
        "下記のコードセルを順番に実行してください。"
      ]
    },
    {
      "metadata": {
        "id": "iYgf2mkh07uw",
        "colab_type": "code",
        "colab": {}
      },
      "cell_type": "code",
      "source": [
        "!apt-get install jq"
      ],
      "execution_count": 0,
      "outputs": []
    },
    {
      "metadata": {
        "id": "KJGmT5_I1kXA",
        "colab_type": "code",
        "colab": {}
      },
      "cell_type": "code",
      "source": [
        "!echo '{\"name\":\"John\", \"age\":30}' | jq"
      ],
      "execution_count": 0,
      "outputs": []
    },
    {
      "metadata": {
        "id": "PPHIfRfF2etk",
        "colab_type": "text"
      },
      "cell_type": "markdown",
      "source": [
        "## ランタイムのリセット\n",
        "\n",
        "メニューバーの「ランタイム」＞「すべてのランタイムをリセット」で，実行環境がクリアされます。インストールしたパッケージ・モジュール，アップロードしたファイル，これまで実行したプログラムの変数などはすべて削除されます。\n"
      ]
    }
  ]
}