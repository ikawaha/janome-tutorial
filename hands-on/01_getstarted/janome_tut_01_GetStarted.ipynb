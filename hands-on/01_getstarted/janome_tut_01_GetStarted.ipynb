{
  "nbformat": 4,
  "nbformat_minor": 0,
  "metadata": {
    "colab": {
      "name": "janome_tut_01_GetStarted.ipynb",
      "version": "0.3.2",
      "provenance": [],
      "collapsed_sections": []
    },
    "kernelspec": {
      "name": "python3",
      "display_name": "Python 3"
    }
  },
  "cells": [
    {
      "metadata": {
        "id": "NXM6SqKgZ8ve",
        "colab_type": "text"
      },
      "cell_type": "markdown",
      "source": [
        "# 1. はじめよう！\n",
        "\n",
        "## 準備\n",
        "\n",
        "1. Janome をインストール\n",
        "2. Graphviz と日本語フォント（IPA フォント）をインストール"
      ]
    },
    {
      "metadata": {
        "id": "LHEfWjw2ap2i",
        "colab_type": "code",
        "colab": {}
      },
      "cell_type": "code",
      "source": [
        "!pip install janome\n",
        "!janome --version"
      ],
      "execution_count": 0,
      "outputs": []
    },
    {
      "metadata": {
        "id": "9gukuGPUa2WU",
        "colab_type": "code",
        "colab": {}
      },
      "cell_type": "code",
      "source": [
        "!apt-get -qq -y install graphviz\n",
        "!apt-get -qq -y install fonts-ipafont-gothic"
      ],
      "execution_count": 0,
      "outputs": []
    },
    {
      "metadata": {
        "id": "kKYVwIMRbVqB",
        "colab_type": "text"
      },
      "cell_type": "markdown",
      "source": [
        "## Janome CLI (Command Line Interface) を使いこなそう\n",
        "\n",
        "付属の CLI で，対話的に形態素解析を実行できます。"
      ]
    },
    {
      "metadata": {
        "id": "nvruYJXsbzAp",
        "colab_type": "code",
        "colab": {}
      },
      "cell_type": "code",
      "source": [
        "!janome"
      ],
      "execution_count": 0,
      "outputs": []
    },
    {
      "metadata": {
        "id": "0tu3V7PjdHuP",
        "colab_type": "text"
      },
      "cell_type": "markdown",
      "source": [
        "指定できるオプションの一覧は -h オプションで確認できます。"
      ]
    },
    {
      "metadata": {
        "id": "2fGZSWtIdPPS",
        "colab_type": "code",
        "colab": {}
      },
      "cell_type": "code",
      "source": [
        "!janome -h"
      ],
      "execution_count": 0,
      "outputs": []
    },
    {
      "metadata": {
        "id": "xlAHEJCh-7Xy",
        "colab_type": "text"
      },
      "cell_type": "markdown",
      "source": [
        "パイプ (|) を使ってワンライナーでも書けます。"
      ]
    },
    {
      "metadata": {
        "id": "TSbctaQcb9n8",
        "colab_type": "code",
        "colab": {}
      },
      "cell_type": "code",
      "source": [
        "!echo \"テキストマイニングを始めよう！\" | janome "
      ],
      "execution_count": 0,
      "outputs": []
    },
    {
      "metadata": {
        "id": "jlMDXvZY-_Pe",
        "colab_type": "text"
      },
      "cell_type": "markdown",
      "source": [
        "-g オプションを指定すると，ラティスグラフを描画できます。デフォルトでは `lattice.gv.png` に保存されます。"
      ]
    },
    {
      "metadata": {
        "id": "jagfOYt2cfPV",
        "colab_type": "code",
        "colab": {}
      },
      "cell_type": "code",
      "source": [
        "!echo \"銀河鉄道\" | janome -g\n",
        "from IPython.display import Image,display_png\n",
        "display_png(Image('lattice.gv.png', width=1200))"
      ],
      "execution_count": 0,
      "outputs": []
    },
    {
      "metadata": {
        "id": "Me6p7pAddYso",
        "colab_type": "code",
        "colab": {}
      },
      "cell_type": "code",
      "source": [
        "!echo \"ご飯論法\" | janome -g\n",
        "from IPython.display import Image,display_png\n",
        "display_png(Image('lattice.gv.png', width=1200))"
      ],
      "execution_count": 0,
      "outputs": []
    },
    {
      "metadata": {
        "id": "2s76JNNjeLf5",
        "colab_type": "text"
      },
      "cell_type": "markdown",
      "source": [
        "### 形態素解析が失敗する例\n",
        "\n",
        "なぜ失敗するのか，ラティスグラフも観察してみましょう。"
      ]
    },
    {
      "metadata": {
        "id": "UYvzrYVAeXsQ",
        "colab_type": "code",
        "colab": {}
      },
      "cell_type": "code",
      "source": [
        "!echo \"外国人参政権\" | janome -g\n",
        "from IPython.display import Image,display_png\n",
        "display_png(Image('lattice.gv.png', width=1200))"
      ],
      "execution_count": 0,
      "outputs": []
    },
    {
      "metadata": {
        "id": "8l0cSaawfNz5",
        "colab_type": "code",
        "colab": {}
      },
      "cell_type": "code",
      "source": [
        "!echo \"美ら海図画コンクール\" | janome -g\n",
        "from IPython.display import Image,display_png\n",
        "display_png(Image('lattice.gv.png', width=1200))"
      ],
      "execution_count": 0,
      "outputs": []
    },
    {
      "metadata": {
        "id": "iFYByO0Wf2dX",
        "colab_type": "text"
      },
      "cell_type": "markdown",
      "source": [
        "## Janome API (Application Programming Interface) を使いこなそう\n",
        "\n",
        "### 参考\n",
        "\n",
        "- Janome ドキュメント : https://mocobeta.github.io/janome/\n",
        "- API リファレンス : http://mocobeta.github.io/janome/api/\n",
        "- プログラム例 : https://github.com/mocobeta/janome/tree/master/examples\n",
        "\n",
        "### Hello Janome!\n",
        "\n"
      ]
    },
    {
      "metadata": {
        "id": "D7NifDTfgXyc",
        "colab_type": "code",
        "colab": {}
      },
      "cell_type": "code",
      "source": [
        "from janome.tokenizer import Tokenizer\n",
        "t = Tokenizer()\n",
        "for token in t.tokenize('今日も１日がんばるぞい'):\n",
        "  print(token)"
      ],
      "execution_count": 0,
      "outputs": []
    },
    {
      "metadata": {
        "id": "EM4Y-RFognWO",
        "colab_type": "text"
      },
      "cell_type": "markdown",
      "source": [
        "### ハンズオン課題 1-1\n",
        "\n",
        "'今日も１日がんばるぞい' を形態素解析して，表層形 (surface form) のみを取り出してください。\n",
        "\n",
        "ヒント: ドキュメント・API リファレンスを参照するか，または `Token` クラスのプロパティは `dir` でも確認できます。\n",
        "\n",
        "解答例は[こちら](https://colab.research.google.com/drive/1x5yJgIIhuGzBdanz9tBZZ63eNroZkbIT?authuser=2#scrollTo=9o_Ay9JeiK5Y) \n"
      ]
    },
    {
      "metadata": {
        "id": "tQsKlgPzi5KB",
        "colab_type": "code",
        "colab": {}
      },
      "cell_type": "code",
      "source": [
        "from janome.tokenizer import Tokenizer\n",
        "t = Tokenizer()\n",
        "## write your code ##"
      ],
      "execution_count": 0,
      "outputs": []
    },
    {
      "metadata": {
        "id": "R9x18Lo_jX-F",
        "colab_type": "text"
      },
      "cell_type": "markdown",
      "source": [
        "### ハンズオン課題 1-2\n",
        "\n",
        "'今日も１日がんばった' を形態素解析して，基本形 (base form) のみを取り出してください。\n",
        "\n",
        "解答例は[こちら](https://colab.research.google.com/drive/1x5yJgIIhuGzBdanz9tBZZ63eNroZkbIT?authuser=2#scrollTo=KSVmoNaqj4du)"
      ]
    },
    {
      "metadata": {
        "id": "y99mIB68kZYS",
        "colab_type": "code",
        "colab": {}
      },
      "cell_type": "code",
      "source": [
        "from janome.tokenizer import Tokenizer\n",
        "t = Tokenizer()\n",
        "## write your code ##"
      ],
      "execution_count": 0,
      "outputs": []
    },
    {
      "metadata": {
        "id": "2ruK3QkWlBAs",
        "colab_type": "text"
      },
      "cell_type": "markdown",
      "source": [
        "## ユーザー定義辞書を使いこなそう\n",
        "\n",
        "ユーザー定義辞書には MeCab IPA フォーマットと簡略フォーマット (simpledic) があります。ここでは簡略フォーマット辞書の作成方法について説明します。\n",
        "\n",
        "https://mocobeta.github.io/janome/#v0-2-7"
      ]
    },
    {
      "metadata": {
        "id": "gU7hlNLBlqf1",
        "colab_type": "text"
      },
      "cell_type": "markdown",
      "source": [
        "### ハンズオン課題 1-3\n",
        "\n",
        "\n",
        "ユーザー定義辞書を使って，\"美ら海図画コンクール\" が正しく形態素解析されるようにしてください。\n",
        "\n",
        "※ 美ら海 / 図画 / コンクール　となるようにする。\n",
        "\n",
        "解答例は[こちら](https://colab.research.google.com/drive/1x5yJgIIhuGzBdanz9tBZZ63eNroZkbIT?authuser=2#scrollTo=bPCgH9vrmVP8)"
      ]
    },
    {
      "metadata": {
        "id": "V8rOVqNYpY-r",
        "colab_type": "code",
        "colab": {}
      },
      "cell_type": "code",
      "source": [
        "# ユーザー辞書ファイル udic.csv (ファイル名は任意) を作る\n",
        "## write your code ##"
      ],
      "execution_count": 0,
      "outputs": []
    },
    {
      "metadata": {
        "id": "XnRpLuE59szd",
        "colab_type": "code",
        "colab": {}
      },
      "cell_type": "code",
      "source": [
        "# API から動作確認\n",
        "# udic_enc オプションはファイルの文字コードに合わせること (Windows の場合は sjis にする)\n",
        "from janome.tokenizer import Tokenizer\n",
        "\n",
        "# ユーザー辞書を指定して Tokenizer を作る\n",
        "t = ## write your code ##\n",
        "for token in t.tokenize('美ら海図画コンクール'):\n",
        "  print(token.base_form)"
      ],
      "execution_count": 0,
      "outputs": []
    },
    {
      "metadata": {
        "id": "2Jj_suzi-D1R",
        "colab_type": "code",
        "colab": {}
      },
      "cell_type": "code",
      "source": [
        "# CLI から動作確認\n",
        "# ワンライナーコマンドで書いてみましょう\n",
        "# ヒント: janome コマンドに指定するオプションは janome -h で確認できる\n",
        "# ラティスグラフも見てみましょう\n",
        "\n",
        "## write your code ##\n",
        "from IPython.display import Image,display_png\n",
        "display_png(Image('lattice.gv.png', width=1200))"
      ],
      "execution_count": 0,
      "outputs": []
    }
  ]
}