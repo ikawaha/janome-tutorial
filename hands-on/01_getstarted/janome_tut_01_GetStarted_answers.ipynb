{
  "nbformat": 4,
  "nbformat_minor": 0,
  "metadata": {
    "colab": {
      "name": "janome_tut_01_GetStarted_answers.ipynb",
      "version": "0.3.2",
      "provenance": [],
      "collapsed_sections": []
    },
    "kernelspec": {
      "name": "python3",
      "display_name": "Python 3"
    }
  },
  "cells": [
    {
      "metadata": {
        "id": "0HZu_nI0knW_",
        "colab_type": "text"
      },
      "cell_type": "markdown",
      "source": [
        "## ハンズオン課題1 解答"
      ]
    },
    {
      "metadata": {
        "id": "HdFL6Yloh2Kd",
        "colab_type": "code",
        "colab": {}
      },
      "cell_type": "code",
      "source": [
        "# 最初にこのセルを実行してください\n",
        "!pip install janome\n",
        "!apt-get -qq -y install graphviz\n",
        "!apt-get -qq -y install fonts-ipafont-gothic"
      ],
      "execution_count": 0,
      "outputs": []
    },
    {
      "metadata": {
        "id": "9o_Ay9JeiK5Y",
        "colab_type": "text"
      },
      "cell_type": "markdown",
      "source": [
        "### 1-1 解答例\n",
        "\n",
        "表層形は `Token.surface` で取り出せる。"
      ]
    },
    {
      "metadata": {
        "id": "qcxqLgkqiSJB",
        "colab_type": "code",
        "colab": {}
      },
      "cell_type": "code",
      "source": [
        "from janome.tokenizer import Tokenizer\n",
        "t = Tokenizer()\n",
        "for token in t.tokenize('今日も１日がんばるぞい'):\n",
        "  print(token.surface)"
      ],
      "execution_count": 0,
      "outputs": []
    },
    {
      "metadata": {
        "id": "M07gOWOb_TBp",
        "colab_type": "text"
      },
      "cell_type": "markdown",
      "source": [
        "または， `wakati=True` オプションをつけても同じ結果になる。"
      ]
    },
    {
      "metadata": {
        "id": "ee9LyWUTjmBw",
        "colab_type": "code",
        "colab": {}
      },
      "cell_type": "code",
      "source": [
        "from janome.tokenizer import Tokenizer\n",
        "t = Tokenizer()\n",
        "for token in t.tokenize('今日も１日がんばるぞい', wakati=True):\n",
        "  print(token)"
      ],
      "execution_count": 0,
      "outputs": []
    },
    {
      "metadata": {
        "id": "KSVmoNaqj4du",
        "colab_type": "text"
      },
      "cell_type": "markdown",
      "source": [
        "### 1-2 解答例\n",
        "\n",
        "基本形は `Token.base_form` で取り出せる。"
      ]
    },
    {
      "metadata": {
        "id": "pQ39WLpZkJ0F",
        "colab_type": "code",
        "colab": {}
      },
      "cell_type": "code",
      "source": [
        "from janome.tokenizer import Tokenizer\n",
        "t = Tokenizer()\n",
        "for token in t.tokenize('今日も１日がんばった'):\n",
        "  print(token.base_form)"
      ],
      "execution_count": 0,
      "outputs": []
    },
    {
      "metadata": {
        "id": "bPCgH9vrmVP8",
        "colab_type": "text"
      },
      "cell_type": "markdown",
      "source": [
        "### 1-3 解答例\n",
        "\n",
        "`simpledic` フォーマットの辞書を使う場合。"
      ]
    },
    {
      "metadata": {
        "id": "DmDlqbfPmUNj",
        "colab_type": "code",
        "colab": {}
      },
      "cell_type": "code",
      "source": [
        "# ユーザー辞書ファイル udic.csv (ファイル名は任意) を作る\n",
        "!echo \"美ら海,名詞,チュラウミ\" > udic.csv \n",
        "!cat udic.csv"
      ],
      "execution_count": 0,
      "outputs": []
    },
    {
      "metadata": {
        "id": "hF9yBGcMn5Gk",
        "colab_type": "code",
        "colab": {}
      },
      "cell_type": "code",
      "source": [
        "# API から動作確認\n",
        "# udic_enc オプションはファイルの文字コードに合わせること (Windows の場合は sjis にする)\n",
        "from janome.tokenizer import Tokenizer\n",
        "t = Tokenizer('udic.csv', udic_type='simpledic', udic_enc='utf8')\n",
        "for token in t.tokenize('美ら海図画コンクール'):\n",
        "  print(token.base_form)"
      ],
      "execution_count": 0,
      "outputs": []
    },
    {
      "metadata": {
        "id": "m-nWqogbm8-w",
        "colab_type": "code",
        "colab": {}
      },
      "cell_type": "code",
      "source": [
        "# CLI から動作確認\n",
        "# udic_enc オプションはファイルの文字コードに合わせること (Windows の場合は sjis にする)\n",
        "# ラティスグラフも見てみましょう\n",
        "!echo \"美ら海図画コンクール\" | janome -g --udic udic.csv --udic-type simpledic --udic-enc utf8\n",
        "from IPython.display import Image,display_png\n",
        "display_png(Image('lattice.gv.png', width=1200))"
      ],
      "execution_count": 0,
      "outputs": []
    }
  ]
}