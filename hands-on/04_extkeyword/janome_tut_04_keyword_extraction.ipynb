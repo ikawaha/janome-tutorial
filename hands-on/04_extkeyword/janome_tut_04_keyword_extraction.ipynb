{
  "nbformat": 4,
  "nbformat_minor": 0,
  "metadata": {
    "colab": {
      "name": "janome_tut_04_keyword_extraction.ipynb",
      "version": "0.3.2",
      "provenance": [],
      "collapsed_sections": []
    },
    "kernelspec": {
      "name": "python3",
      "display_name": "Python 3"
    }
  },
  "cells": [
    {
      "metadata": {
        "id": "vfVYVaenJ7UZ",
        "colab_type": "text"
      },
      "cell_type": "markdown",
      "source": [
        "# 4. キーワード抽出\n"
      ]
    },
    {
      "metadata": {
        "id": "whtmfdcVKSug",
        "colab_type": "text"
      },
      "cell_type": "markdown",
      "source": [
        "## BoW と TFIDF with gensim\n",
        "\n",
        "### ハンズオン課題4-1\n",
        "\n",
        "`## write your code ##` という箇所を自分で埋めながら，以下のコードを実行してください。\n",
        "\n",
        "解答例は [こちら](https://colab.research.google.com/drive/1CeUMA6fEw55NgqkJXEpr5T1oVgQU9FHB?authuser=2#scrollTo=whtmfdcVKSug&line=2&uniqifier=1)\n",
        "\n"
      ]
    },
    {
      "metadata": {
        "id": "I6pp2x6evge6",
        "colab_type": "text"
      },
      "cell_type": "markdown",
      "source": [
        "#### 0. 準備\n",
        "\n",
        "1. Janome をインストール"
      ]
    },
    {
      "metadata": {
        "id": "Z8W87tvIvT1x",
        "colab_type": "code",
        "colab": {}
      },
      "cell_type": "code",
      "source": [
        "!pip install janome"
      ],
      "execution_count": 0,
      "outputs": []
    },
    {
      "metadata": {
        "id": "VwHM3oIcvNgF",
        "colab_type": "text"
      },
      "cell_type": "markdown",
      "source": [
        "#### 1. テキストの読み込みと分割\n",
        "\n",
        "テキストファイル `joel_gtd.txt` を読み込み，改行コード `\\n` で split して `sentences` 変数に格納する。"
      ]
    },
    {
      "metadata": {
        "id": "OWpkOyP4K1KG",
        "colab_type": "code",
        "colab": {}
      },
      "cell_type": "code",
      "source": [
        "# janome-tutorial/hands-on/data/joel_gtd.txt を Google Colab にアップロード\n",
        "from google.colab import files\n",
        "uploaded = files.upload()"
      ],
      "execution_count": 0,
      "outputs": []
    },
    {
      "metadata": {
        "id": "0KVenzqMLNby",
        "colab_type": "code",
        "colab": {}
      },
      "cell_type": "code",
      "source": [
        "!cat -n joel_gtd.txt"
      ],
      "execution_count": 0,
      "outputs": []
    },
    {
      "metadata": {
        "id": "5Dj_ffKrLd0h",
        "colab_type": "code",
        "colab": {}
      },
      "cell_type": "code",
      "source": [
        "with open('joel_gtd.txt') as f:\n",
        "  data = f.read()\n",
        "  \n",
        "sentences = data.split('\\n')\n",
        "sentences"
      ],
      "execution_count": 0,
      "outputs": []
    },
    {
      "metadata": {
        "id": "900XmeidLpTU",
        "colab_type": "text"
      },
      "cell_type": "markdown",
      "source": [
        "#### 2.トークナイズ\n",
        "\n",
        "`sentences` の各行を形態素解析して，単語のリストのリストに変換して `texts` 変数に格納する。\n",
        "\n",
        "ヒント : リスト内包表記を使うと 1 行で書ける（使わなくても良い）"
      ]
    },
    {
      "metadata": {
        "id": "S2NP41iyLneN",
        "colab_type": "code",
        "colab": {}
      },
      "cell_type": "code",
      "source": [
        "from janome.tokenizer import Tokenizer\n",
        "t = Tokenizer()\n",
        "texts = ## write your code ##\n",
        "texts[0]\n",
        "\n",
        "# ['下っ端', 'で', 'も', '何', 'か', 'を', '成し遂げる', '方法']\n",
        "# と出力されれば OK"
      ],
      "execution_count": 0,
      "outputs": []
    },
    {
      "metadata": {
        "id": "-9PGDbmoMIsQ",
        "colab_type": "text"
      },
      "cell_type": "markdown",
      "source": [
        "#### 3. Dictionary 作成\n",
        "\n",
        "`texts` から，gensim の Dictionary を構築して `dictionary` 変数に格納する。\n",
        "\n",
        "参考\n",
        "\n",
        "-  gensim チュートリアル: https://radimrehurek.com/gensim/tut1.html\n"
      ]
    },
    {
      "metadata": {
        "id": "_nP_saHhMV2r",
        "colab_type": "code",
        "colab": {}
      },
      "cell_type": "code",
      "source": [
        "from gensim import corpora, models\n",
        "dictionary = corpora.Dictionary(texts)\n",
        "dictionary.token2id"
      ],
      "execution_count": 0,
      "outputs": []
    },
    {
      "metadata": {
        "id": "_x0cxF6eOot_",
        "colab_type": "text"
      },
      "cell_type": "markdown",
      "source": [
        "#### 4. BoW 化と Corpus 作成\n",
        "\n",
        "構築した `dictionary` を使って，`texts` を文書ベクトル (Bag of Words) に変換し，MmCorpus としてシリアライズする。"
      ]
    },
    {
      "metadata": {
        "id": "QjsbHWEUOuei",
        "colab_type": "code",
        "colab": {}
      },
      "cell_type": "code",
      "source": [
        "corpus = ## write your code ##\n",
        "corpora.MmCorpus.serialize('joel_gtd.mm', corpus)\n",
        "\n",
        "!ls\n",
        "# joel_gtd.mm が存在するはず"
      ],
      "execution_count": 0,
      "outputs": []
    },
    {
      "metadata": {
        "id": "t-TPoMLUO5as",
        "colab_type": "text"
      },
      "cell_type": "markdown",
      "source": [
        "#### 5. 文書ベクトル (BoW) から，出現回数の多い単語を調べる\n",
        "\n",
        "MmCorpus を読み出し(デシリアライズ)，`corpus` 変数に格納する。テキストファイル 9 行目（「たとえば、あなたのチームの〜」）に出現する上位10単語とその出現回数を表示する。\n",
        "\n",
        "- ヒント1: 9行目の文書ベクトルは， `corpus[8]` で取り出せる。\n",
        "- ヒント2: 単語IDから単語（文字列）への変換は， `dictionary.get(id)` メソッドが使える。 "
      ]
    },
    {
      "metadata": {
        "id": "KydsVfKLO_pg",
        "colab_type": "code",
        "colab": {}
      },
      "cell_type": "code",
      "source": [
        "corpus = corpora.MmCorpus('joel_gtd.mm')\n",
        "## write your code ##\n",
        "\n",
        "# [('を', 16.0),\n",
        "#  ('。', 12.0),\n",
        "#  ('バグ', 11.0),\n",
        "#  ('の', 10.0),\n",
        "# ...\n",
        "# と出力されれば OK"
      ],
      "execution_count": 0,
      "outputs": []
    },
    {
      "metadata": {
        "id": "mOWeHdpHPopY",
        "colab_type": "text"
      },
      "cell_type": "markdown",
      "source": [
        "#### 6. TFIDF モデル作成と適用\n",
        "\n",
        "TfidfModel を作成して `tfidf` 変数に格納し，モデルを `corpus` に適用する。テキストファイル 9 行目に現れる単語の中で，tfidf 値の大きい上位10単語とその値を表示する。\n",
        "\n",
        "ひとつ前の結果と比べてみましょう。\n",
        "\n",
        "参考\n",
        "\n",
        "- チュートリアル: https://radimrehurek.com/gensim/tut2.html"
      ]
    },
    {
      "metadata": {
        "id": "2HITsDgiPxBe",
        "colab_type": "code",
        "colab": {}
      },
      "cell_type": "code",
      "source": [
        "## write your code ##"
      ],
      "execution_count": 0,
      "outputs": []
    },
    {
      "metadata": {
        "id": "XgsQJ-TQyKhL",
        "colab_type": "text"
      },
      "cell_type": "markdown",
      "source": [
        "## termextract (専門用語抽出)\n",
        "\n",
        "### ハンズオン課題 4-2\n",
        "\n",
        "解答例は [こちら](https://colab.research.google.com/drive/1CeUMA6fEw55NgqkJXEpr5T1oVgQU9FHB?authuser=2#scrollTo=zFHOXJas2Gkr)"
      ]
    },
    {
      "metadata": {
        "id": "x5DlxcB8yx7R",
        "colab_type": "text"
      },
      "cell_type": "markdown",
      "source": [
        "#### 0. 準備\n",
        "\n",
        "[pytermextract]((http://gensen.dl.itc.u-tokyo.ac.jp/pytermextract/) をダウンロードして，インストールしてください。"
      ]
    },
    {
      "metadata": {
        "id": "nCuvmVt7voif",
        "colab_type": "code",
        "colab": {}
      },
      "cell_type": "code",
      "source": [
        "!wget -q http://gensen.dl.itc.u-tokyo.ac.jp/soft/pytermextract-0_01.zip\n",
        "!unzip -oq pytermextract-0_01.zip\n",
        "!cd pytermextract-0_01 && python setup.py install --quiet\n",
        "!pip freeze | grep termextract"
      ],
      "execution_count": 0,
      "outputs": []
    },
    {
      "metadata": {
        "id": "KRB9WijUzQU0",
        "colab_type": "text"
      },
      "cell_type": "markdown",
      "source": [
        "#### 1. テキストファイルのアップロード\n",
        "\n",
        "好きなニュース記事か，Wikipedia の記事（なるべく長めの文章が望ましい）の本文部分のみをコピーして，`article.txt` というファイル名でローカルPCに保存してください。(Instapaper などを使うと楽です。)\n",
        "\n",
        "保存したテキストファイルを Google Colab にアップロードしてください。"
      ]
    },
    {
      "metadata": {
        "id": "v8dauSiS0wCB",
        "colab_type": "code",
        "colab": {}
      },
      "cell_type": "code",
      "source": [
        "# article.txt をアップロード\n",
        "from google.colab import files\n",
        "uploaded = files.upload()"
      ],
      "execution_count": 0,
      "outputs": []
    },
    {
      "metadata": {
        "id": "8-ZxjmbT01_O",
        "colab_type": "text"
      },
      "cell_type": "markdown",
      "source": [
        "#### 2. 複合名詞抽出＋出現回数カウント\n",
        "\n",
        "保存したテキストから，[CompoundNounFilter](http://mocobeta.github.io/janome/api/janome.html#janome.tokenfilter.CompoundNounFilter) を使って複合名詞(名詞の連続)を抽出し，出現回数をカウントして多い順に並べてください。\n",
        "\n",
        " 参考: \n",
        " \n",
        " - http://eneprog.blogspot.com/2018/07/janome-analayzerpython.html"
      ]
    },
    {
      "metadata": {
        "id": "-XV7Ueze1RGd",
        "colab_type": "code",
        "colab": {}
      },
      "cell_type": "code",
      "source": [
        "from janome.tokenizer import Tokenizer\n",
        "from janome.analyzer import Analyzer\n",
        "from janome.charfilter import *\n",
        "from janome.tokenfilter import *\n",
        "\n",
        "\n",
        "def wc(file):\n",
        "    with open(file, encoding='utf8') as f:\n",
        "        ## write your code ##\n",
        "      \n",
        "\n",
        "counts = wc('article.txt')\n",
        "for k, v in counts:\n",
        "  print('%s\\t%d' % (k, v))"
      ],
      "execution_count": 0,
      "outputs": []
    },
    {
      "metadata": {
        "id": "PFNoObwr1UVb",
        "colab_type": "text"
      },
      "cell_type": "markdown",
      "source": [
        "#### 3. 専門用語抽出\n",
        "\n",
        "[termextract ドキュメント](http://gensen.dl.itc.u-tokyo.ac.jp/pytermextract/) の「３．サンプルスクリプトを使用する」 に従って，保存したテキストから，termextract を使って用語抽出してください。\n",
        "\n",
        "抽出できたら，2. の結果と比べてください。"
      ]
    },
    {
      "metadata": {
        "id": "vN4dqXtj1lT6",
        "colab_type": "code",
        "colab": {}
      },
      "cell_type": "code",
      "source": [
        "!python pytermextract-0_01/pytermex/termex_janome.py article.txt\n",
        "!cat janome_extracted.txt"
      ],
      "execution_count": 0,
      "outputs": []
    },
    {
      "metadata": {
        "id": "QeHl0WFX1qFF",
        "colab_type": "text"
      },
      "cell_type": "markdown",
      "source": [
        "### ホームワーク\n",
        "\n",
        "さらに興味があれば，termextract の元になった論文を読んで，スコア算出方法や計算式を確\n",
        "認してみましょう。\n",
        "\n",
        "\n",
        "出現頻度と連接頻度に基づく専門用語抽出\n",
        "\n",
        "中川 裕志, 湯本 紘彰, 森 辰則\n",
        "\n",
        "[ここ](https://www.jstage.jst.go.jp/article/jnlp1994/10/1/10_1_27/_article/-char/ja) から PDF がダウンロードできます。"
      ]
    }
  ]
}